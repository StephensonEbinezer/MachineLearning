{
 "cells": [
  {
   "cell_type": "code",
   "execution_count": 199,
   "metadata": {},
   "outputs": [],
   "source": [
    "import pandas as pd\n",
    "from sklearn.preprocessing import LabelEncoder\n",
    "from sklearn.model_selection import train_test_split\n",
    "from sklearn.feature_selection import chi2\n",
    "from sklearn.preprocessing import OneHotEncoder\n",
    "from lightgbm import LGBMClassifier\n",
    "from xgboost import XGBClassifier\n",
    "from sklearn.tree import DecisionTreeClassifier\n",
    "from sklearn.ensemble import BaggingClassifier\n",
    "from sklearn.metrics import accuracy_score,f1_score, confusion_matrix, accuracy_score, classification_report, roc_auc_score"
   ]
  },
  {
   "cell_type": "code",
   "execution_count": 200,
   "metadata": {},
   "outputs": [],
   "source": [
    "Data_train = pd.read_csv(r'C:\\Users\\steph\\Downloads\\train_s3TEQDk.csv')\n",
    "Data_test = pd.read_csv(r'C:\\Users\\steph\\Downloads\\test_mSzZ8RL.csv')"
   ]
  },
  {
   "cell_type": "code",
   "execution_count": 201,
   "metadata": {},
   "outputs": [
    {
     "name": "stdout",
     "output_type": "stream",
     "text": [
      "<class 'pandas.core.frame.DataFrame'>\n",
      "RangeIndex: 245725 entries, 0 to 245724\n",
      "Data columns (total 11 columns):\n",
      " #   Column               Non-Null Count   Dtype \n",
      "---  ------               --------------   ----- \n",
      " 0   ID                   245725 non-null  object\n",
      " 1   Gender               245725 non-null  object\n",
      " 2   Age                  245725 non-null  int64 \n",
      " 3   Region_Code          245725 non-null  object\n",
      " 4   Occupation           245725 non-null  object\n",
      " 5   Channel_Code         245725 non-null  object\n",
      " 6   Vintage              245725 non-null  int64 \n",
      " 7   Credit_Product       216400 non-null  object\n",
      " 8   Avg_Account_Balance  245725 non-null  int64 \n",
      " 9   Is_Active            245725 non-null  object\n",
      " 10  Is_Lead              245725 non-null  int64 \n",
      "dtypes: int64(4), object(7)\n",
      "memory usage: 20.6+ MB\n"
     ]
    }
   ],
   "source": [
    "Data_train.info()"
   ]
  },
  {
   "cell_type": "code",
   "execution_count": 202,
   "metadata": {},
   "outputs": [
    {
     "data": {
      "text/html": [
       "<div>\n",
       "<style scoped>\n",
       "    .dataframe tbody tr th:only-of-type {\n",
       "        vertical-align: middle;\n",
       "    }\n",
       "\n",
       "    .dataframe tbody tr th {\n",
       "        vertical-align: top;\n",
       "    }\n",
       "\n",
       "    .dataframe thead th {\n",
       "        text-align: right;\n",
       "    }\n",
       "</style>\n",
       "<table border=\"1\" class=\"dataframe\">\n",
       "  <thead>\n",
       "    <tr style=\"text-align: right;\">\n",
       "      <th></th>\n",
       "      <th>ID</th>\n",
       "      <th>Gender</th>\n",
       "      <th>Age</th>\n",
       "      <th>Region_Code</th>\n",
       "      <th>Occupation</th>\n",
       "      <th>Channel_Code</th>\n",
       "      <th>Vintage</th>\n",
       "      <th>Credit_Product</th>\n",
       "      <th>Avg_Account_Balance</th>\n",
       "      <th>Is_Active</th>\n",
       "      <th>Is_Lead</th>\n",
       "    </tr>\n",
       "  </thead>\n",
       "  <tbody>\n",
       "    <tr>\n",
       "      <th>0</th>\n",
       "      <td>NNVBBKZB</td>\n",
       "      <td>Female</td>\n",
       "      <td>73</td>\n",
       "      <td>RG268</td>\n",
       "      <td>Other</td>\n",
       "      <td>X3</td>\n",
       "      <td>43</td>\n",
       "      <td>No</td>\n",
       "      <td>1045696</td>\n",
       "      <td>No</td>\n",
       "      <td>0</td>\n",
       "    </tr>\n",
       "    <tr>\n",
       "      <th>1</th>\n",
       "      <td>IDD62UNG</td>\n",
       "      <td>Female</td>\n",
       "      <td>30</td>\n",
       "      <td>RG277</td>\n",
       "      <td>Salaried</td>\n",
       "      <td>X1</td>\n",
       "      <td>32</td>\n",
       "      <td>No</td>\n",
       "      <td>581988</td>\n",
       "      <td>No</td>\n",
       "      <td>0</td>\n",
       "    </tr>\n",
       "  </tbody>\n",
       "</table>\n",
       "</div>"
      ],
      "text/plain": [
       "         ID  Gender  Age Region_Code Occupation Channel_Code  Vintage  \\\n",
       "0  NNVBBKZB  Female   73       RG268      Other           X3       43   \n",
       "1  IDD62UNG  Female   30       RG277   Salaried           X1       32   \n",
       "\n",
       "  Credit_Product  Avg_Account_Balance Is_Active  Is_Lead  \n",
       "0             No              1045696        No        0  \n",
       "1             No               581988        No        0  "
      ]
     },
     "execution_count": 202,
     "metadata": {},
     "output_type": "execute_result"
    }
   ],
   "source": [
    "Data_train.head(2)"
   ]
  },
  {
   "cell_type": "markdown",
   "metadata": {},
   "source": [
    "## Feature Engineering"
   ]
  },
  {
   "cell_type": "markdown",
   "metadata": {},
   "source": [
    "### Binning the numerical values to categorical of both Train and Test Data"
   ]
  },
  {
   "cell_type": "code",
   "execution_count": 203,
   "metadata": {},
   "outputs": [],
   "source": [
    "#Binning Age\n",
    "bins_age = [1,25,40,60,75,200]\n",
    "labels_age = ['0','1','2','3','4']\n",
    "Data_train['Age_Binned']=pd.cut(Data_train[\"Age\"],bins=bins_age,labels=labels_age,precision=0)\n",
    "Data_test['Age_Binned']=pd.cut(Data_test[\"Age\"],bins=bins_age,labels=labels_age,precision=0)\n",
    "    #Data_train[\"Age_Binned\"].value_counts()\n",
    "#Binning Average account balance\n",
    "bins_bal = [1,1000000,2500000,5000000,7500000,1000000000]\n",
    "labels_bal = ['0','1','2','3','4']\n",
    "Data_train['Avg_Account_Balance_Binned']=pd.cut(Data_train[\"Avg_Account_Balance\"],bins=bins_bal,labels=labels_bal,precision=0)\n",
    "Data_test['Avg_Account_Balance_Binned']=pd.cut(Data_test[\"Avg_Account_Balance\"],bins=bins_bal,labels=labels_bal,precision=0)\n",
    "    #Data_train[\"Avg_Account_Balance_Binned\"].value_counts()\n",
    "#Binning Vintage in years\n",
    "bins_vin = [1,60,120,300]\n",
    "labels_vin = ['0','1','2']\n",
    "Data_train['Vintage_Binned']=pd.cut(Data_train[\"Vintage\"],bins=bins_vin,labels=labels_vin,precision=0)\n",
    "Data_test['Vintage_Binned']=pd.cut(Data_test[\"Vintage\"],bins=bins_vin,labels=labels_vin,precision=0)\n",
    "    #Data_train[\"Vintage_Binned\"].value_counts()"
   ]
  },
  {
   "cell_type": "markdown",
   "metadata": {},
   "source": [
    "### Combining two Features"
   ]
  },
  {
   "cell_type": "code",
   "execution_count": 204,
   "metadata": {},
   "outputs": [],
   "source": [
    "#Train Dataset\n",
    "Data_train[\"AGE_GENDER\"] = Data_train[\"Gender\"]+Data_train['Age_Binned'].astype(str)\n",
    "Data_train[\"AGE_CHANNEL\"] = Data_train[\"Channel_Code\"]+Data_train['Age_Binned'].astype(str)\n",
    "Data_train[\"OCC_AGE\"] = Data_train[\"Occupation\"]+Data_train['Age_Binned'].astype(str)\n",
    "Data_train[\"OCC_BAL\"] = Data_train[\"Occupation\"]+Data_train['Avg_Account_Balance_Binned'].astype(str)\n",
    "Data_train[\"CREDIT_AGE\"] = Data_train[\"Credit_Product\"]+Data_train['Age_Binned'].astype(str)\n",
    "Data_train[\"CREDIT_BAL\"] = Data_train[\"Credit_Product\"]+Data_train['Avg_Account_Balance_Binned'].astype(str)\n",
    "Data_train[\"CREDIT_VINT\"] = Data_train[\"Credit_Product\"]+Data_train['Vintage_Binned'].astype(str)\n",
    "\n",
    "#Test Dataset\n",
    "Data_test[\"AGE_GENDER\"] = Data_test[\"Gender\"]+Data_test['Age_Binned'].astype(str)\n",
    "Data_test[\"AGE_CHANNEL\"] = Data_test[\"Channel_Code\"]+Data_test['Age_Binned'].astype(str)\n",
    "Data_test[\"OCC_AGE\"] = Data_test[\"Occupation\"]+Data_test['Age_Binned'].astype(str)\n",
    "Data_test[\"OCC_BAL\"] = Data_test[\"Occupation\"]+Data_test['Avg_Account_Balance_Binned'].astype(str)\n",
    "Data_test[\"CREDIT_AGE\"] = Data_test[\"Credit_Product\"]+Data_test['Age_Binned'].astype(str)\n",
    "Data_test[\"CREDIT_BAL\"] = Data_test[\"Credit_Product\"]+Data_test['Avg_Account_Balance_Binned'].astype(str)\n",
    "Data_test[\"CREDIT_VINT\"] = Data_test[\"Credit_Product\"]+Data_test['Vintage_Binned'].astype(str)"
   ]
  },
  {
   "cell_type": "markdown",
   "metadata": {},
   "source": [
    "### Performing chi square test for relationship of the categorical variables and the target"
   ]
  },
  {
   "cell_type": "code",
   "execution_count": 205,
   "metadata": {},
   "outputs": [
    {
     "data": {
      "text/plain": [
       "Region_Code                    0.000000e+00\n",
       "Channel_Code                   0.000000e+00\n",
       "Credit_Product                 0.000000e+00\n",
       "Age_Binned                     0.000000e+00\n",
       "Vintage_Binned                 0.000000e+00\n",
       "AGE_GENDER                     0.000000e+00\n",
       "AGE_CHANNEL                    0.000000e+00\n",
       "CREDIT_AGE                     0.000000e+00\n",
       "CREDIT_BAL                     0.000000e+00\n",
       "CREDIT_VINT                    0.000000e+00\n",
       "OCC_AGE                       3.885964e-191\n",
       "Is_Active                     9.944392e-169\n",
       "Avg_Account_Balance_Binned    3.949737e-116\n",
       "Gender                         3.369807e-90\n",
       "OCC_BAL                        4.696663e-28\n",
       "Occupation                     5.102494e-03\n",
       "dtype: float64"
      ]
     },
     "execution_count": 205,
     "metadata": {},
     "output_type": "execute_result"
    }
   ],
   "source": [
    "# Categorical columns are ['Gender','Region_Code','Occupation','Channel_Code','Credit_Product','Is_Active'] \n",
    "# target variable is Is_lead\n",
    "Data_Chi2 = Data_train[['Gender','Region_Code','Occupation','Channel_Code','Credit_Product','Is_Active',\n",
    "                        'Age_Binned','Avg_Account_Balance_Binned','Vintage_Binned',\n",
    "                        'AGE_GENDER','AGE_CHANNEL','OCC_AGE','OCC_BAL','CREDIT_AGE',\n",
    "                        'CREDIT_BAL','CREDIT_VINT','Is_Lead']]\n",
    "\n",
    "# Ordinal Encoding for the columns\n",
    "Data_Chi2 = Data_Chi2.apply(LabelEncoder().fit_transform)\n",
    "\n",
    "# Checking the P values\n",
    "Xtrain,Xtest,ytrain,ytest = train_test_split(Data_Chi2[['Gender','Region_Code','Occupation','Channel_Code',\n",
    "                                                        'Credit_Product','Is_Active','Age_Binned',\n",
    "                                                        'Avg_Account_Balance_Binned',\n",
    "                                                        'Vintage_Binned','AGE_GENDER','AGE_CHANNEL','OCC_AGE',\n",
    "                                                       'OCC_BAL','CREDIT_AGE','CREDIT_BAL',\n",
    "                                                        'CREDIT_VINT']],Data_Chi2['Is_Lead'],\n",
    "                                             test_size=0.3,random_state=10)\n",
    "f_p_values = chi2(Xtrain,ytrain)\n",
    "p_values = pd.Series(f_p_values[1])\n",
    "p_values.index = Xtrain.columns\n",
    "p_values.sort_values()"
   ]
  },
  {
   "cell_type": "markdown",
   "metadata": {},
   "source": [
    "As per the Chi Square, except Occupation all the features have good correlation with the target and the most correlated features are\n",
    "1) OCC_AGE\n",
    "2) Is_Active\n",
    "3) Avg_Account_Balance_binned\n",
    "4) Gender"
   ]
  },
  {
   "cell_type": "markdown",
   "metadata": {},
   "source": [
    "### Data Preparation for Model"
   ]
  },
  {
   "cell_type": "markdown",
   "metadata": {},
   "source": [
    "#### Encoding the train Data"
   ]
  },
  {
   "cell_type": "code",
   "execution_count": 206,
   "metadata": {},
   "outputs": [],
   "source": [
    "Feature_Columns = ['Is_Active','Avg_Account_Balance_Binned','Gender',\n",
    "                         'OCC_AGE',\"Is_Lead\",'OCC_BAL','Credit_Product']\n",
    "Data_train = Data_train[Feature_Columns]\n",
    "Data_test = Data_test[['Is_Active','Avg_Account_Balance_Binned','Gender',\n",
    "                         'OCC_AGE','OCC_BAL','Credit_Product','ID']]\n",
    "\n",
    "# Retaining the Columns for final output\n",
    "Data_test_colums = Data_test['ID']\n",
    "Data_test.drop(['ID'],axis=1,inplace=True)"
   ]
  },
  {
   "cell_type": "code",
   "execution_count": 207,
   "metadata": {},
   "outputs": [
    {
     "data": {
      "text/html": [
       "<div>\n",
       "<style scoped>\n",
       "    .dataframe tbody tr th:only-of-type {\n",
       "        vertical-align: middle;\n",
       "    }\n",
       "\n",
       "    .dataframe tbody tr th {\n",
       "        vertical-align: top;\n",
       "    }\n",
       "\n",
       "    .dataframe thead th {\n",
       "        text-align: right;\n",
       "    }\n",
       "</style>\n",
       "<table border=\"1\" class=\"dataframe\">\n",
       "  <thead>\n",
       "    <tr style=\"text-align: right;\">\n",
       "      <th></th>\n",
       "      <th>Is_Active</th>\n",
       "      <th>Avg_Account_Balance_Binned</th>\n",
       "      <th>Gender</th>\n",
       "      <th>OCC_AGE</th>\n",
       "      <th>Is_Lead</th>\n",
       "      <th>OCC_BAL</th>\n",
       "      <th>Credit_Product</th>\n",
       "    </tr>\n",
       "  </thead>\n",
       "  <tbody>\n",
       "    <tr>\n",
       "      <th>0</th>\n",
       "      <td>No</td>\n",
       "      <td>1</td>\n",
       "      <td>Female</td>\n",
       "      <td>Other3</td>\n",
       "      <td>0</td>\n",
       "      <td>Other1</td>\n",
       "      <td>No</td>\n",
       "    </tr>\n",
       "    <tr>\n",
       "      <th>1</th>\n",
       "      <td>No</td>\n",
       "      <td>0</td>\n",
       "      <td>Female</td>\n",
       "      <td>Salaried1</td>\n",
       "      <td>0</td>\n",
       "      <td>Salaried0</td>\n",
       "      <td>No</td>\n",
       "    </tr>\n",
       "    <tr>\n",
       "      <th>2</th>\n",
       "      <td>Yes</td>\n",
       "      <td>1</td>\n",
       "      <td>Female</td>\n",
       "      <td>Self_Employed2</td>\n",
       "      <td>0</td>\n",
       "      <td>Self_Employed1</td>\n",
       "      <td>No</td>\n",
       "    </tr>\n",
       "    <tr>\n",
       "      <th>3</th>\n",
       "      <td>No</td>\n",
       "      <td>0</td>\n",
       "      <td>Male</td>\n",
       "      <td>Salaried1</td>\n",
       "      <td>0</td>\n",
       "      <td>Salaried0</td>\n",
       "      <td>No</td>\n",
       "    </tr>\n",
       "    <tr>\n",
       "      <th>4</th>\n",
       "      <td>No</td>\n",
       "      <td>0</td>\n",
       "      <td>Female</td>\n",
       "      <td>Salaried1</td>\n",
       "      <td>0</td>\n",
       "      <td>Salaried0</td>\n",
       "      <td>No</td>\n",
       "    </tr>\n",
       "  </tbody>\n",
       "</table>\n",
       "</div>"
      ],
      "text/plain": [
       "  Is_Active Avg_Account_Balance_Binned  Gender         OCC_AGE  Is_Lead  \\\n",
       "0        No                          1  Female          Other3        0   \n",
       "1        No                          0  Female       Salaried1        0   \n",
       "2       Yes                          1  Female  Self_Employed2        0   \n",
       "3        No                          0    Male       Salaried1        0   \n",
       "4        No                          0  Female       Salaried1        0   \n",
       "\n",
       "          OCC_BAL Credit_Product  \n",
       "0          Other1             No  \n",
       "1       Salaried0             No  \n",
       "2  Self_Employed1             No  \n",
       "3       Salaried0             No  \n",
       "4       Salaried0             No  "
      ]
     },
     "execution_count": 207,
     "metadata": {},
     "output_type": "execute_result"
    }
   ],
   "source": [
    "Data_train.head()"
   ]
  },
  {
   "cell_type": "code",
   "execution_count": 208,
   "metadata": {},
   "outputs": [],
   "source": [
    "y = Data_train[\"Is_Lead\"]\n",
    "Data_train.drop(\"Is_Lead\",axis=1,inplace=True)\n",
    "X = pd.get_dummies(Data_train,prefix=Data_train.columns)\n",
    "X_test = pd.get_dummies(Data_train,prefix=Data_test.columns)"
   ]
  },
  {
   "cell_type": "code",
   "execution_count": 209,
   "metadata": {},
   "outputs": [
    {
     "name": "stdout",
     "output_type": "stream",
     "text": [
      "Accuracy for LGBMClassifier()% model is: 85.84741854092624%\n",
      "ROC_AUC_Score for LGBMClassifier()% model is: 84.8154580969916%\n",
      "Accuracy for DecisionTreeClassifier()% model is: 85.79180118831222%\n",
      "ROC_AUC_Score for DecisionTreeClassifier()% model is: 84.77431232085758%\n",
      "Accuracy for XGBClassifier(base_score=0.5, booster='gbtree', colsample_bylevel=1,\n",
      "              colsample_bynode=1, colsample_bytree=1, gamma=0, gpu_id=-1,\n",
      "              importance_type='gain', interaction_constraints='',\n",
      "              learning_rate=0.300000012, max_delta_step=0, max_depth=6,\n",
      "              min_child_weight=1, missing=nan, monotone_constraints='()',\n",
      "              n_estimators=100, n_jobs=0, num_parallel_tree=1, random_state=0,\n",
      "              reg_alpha=0, reg_lambda=1, scale_pos_weight=1, subsample=1,\n",
      "              tree_method='exact', validate_parameters=1, verbosity=None)% model is: 85.75246208524376%\n",
      "ROC_AUC_Score for XGBClassifier(base_score=0.5, booster='gbtree', colsample_bylevel=1,\n",
      "              colsample_bynode=1, colsample_bytree=1, gamma=0, gpu_id=-1,\n",
      "              importance_type='gain', interaction_constraints='',\n",
      "              learning_rate=0.300000012, max_delta_step=0, max_depth=6,\n",
      "              min_child_weight=1, missing=nan, monotone_constraints='()',\n",
      "              n_estimators=100, n_jobs=0, num_parallel_tree=1, random_state=0,\n",
      "              reg_alpha=0, reg_lambda=1, scale_pos_weight=1, subsample=1,\n",
      "              tree_method='exact', validate_parameters=1, verbosity=None)% model is: 84.80770811467335%\n"
     ]
    }
   ],
   "source": [
    "Models = (LGBMClassifier(),DecisionTreeClassifier(),XGBClassifier())\n",
    "for i in Models:\n",
    "    Xtrain,Xtest,Ytrain,Ytest = train_test_split(X,y,test_size = 0.3,random_state = None)\n",
    "\n",
    "    model = i\n",
    "    model.fit(Xtrain,Ytrain)\n",
    "\n",
    "    ypred = model.predict(Xtest)\n",
    "    print(\"Accuracy for %s%% model is: %s%%\" % (i ,100*accuracy_score(ypred,Ytest)))\n",
    "    print(\"ROC_AUC_Score for %s%% model is: %s%%\" % (i,100*roc_auc_score(ypred,Ytest)))"
   ]
  },
  {
   "cell_type": "markdown",
   "metadata": {},
   "source": [
    "### Training the Model"
   ]
  },
  {
   "cell_type": "code",
   "execution_count": 210,
   "metadata": {},
   "outputs": [
    {
     "name": "stdout",
     "output_type": "stream",
     "text": [
      "Accuracy for this model is: 85.95051412138149%\n",
      "ROC_AUC_Score for this model is: 85.21179708204355%\n"
     ]
    }
   ],
   "source": [
    "#Best Classifier\n",
    "\n",
    "Xtrain,Xtest,Ytrain,Ytest = train_test_split(X,y,test_size = 0.3,random_state = None)\n",
    "model = LGBMClassifier()\n",
    "model.fit(Xtrain,Ytrain)\n",
    "ypred = model.predict(Xtest)\n",
    "print(\"Accuracy for this model is: %s%%\" % (100*accuracy_score(ypred,Ytest)))\n",
    "print(\"ROC_AUC_Score for this model is: %s%%\" % (100*roc_auc_score(ypred,Ytest)))"
   ]
  },
  {
   "cell_type": "code",
   "execution_count": 211,
   "metadata": {},
   "outputs": [],
   "source": [
    "Result = pd.DataFrame(model.predict_proba(X_test))\n",
    "Rresult_Final = pd.concat([Data_test_colums,Result],axis=1)\n",
    "Rresult_Final.rename(columns={0:'ID'},inplace=True)\n",
    "Rresult_Final.to_csv(r\"C:\\Users\\steph\\Downloads\\Credit_solution_8.csv\")"
   ]
  },
  {
   "cell_type": "code",
   "execution_count": null,
   "metadata": {},
   "outputs": [],
   "source": []
  }
 ],
 "metadata": {
  "kernelspec": {
   "display_name": "Python 3",
   "language": "python",
   "name": "python3"
  },
  "language_info": {
   "codemirror_mode": {
    "name": "ipython",
    "version": 3
   },
   "file_extension": ".py",
   "mimetype": "text/x-python",
   "name": "python",
   "nbconvert_exporter": "python",
   "pygments_lexer": "ipython3",
   "version": "3.7.4"
  }
 },
 "nbformat": 4,
 "nbformat_minor": 4
}
